{
 "metadata": {
  "accelerator": "GPU",
  "colab": {
   "collapsed_sections": [],
   "name": "yolov5_onnx.ipynb",
   "provenance": []
  },
  "kernelspec": {
   "display_name": "Python 3",
   "name": "python3"
  },
  "name": ""
 },
 "nbformat": 3,
 "nbformat_minor": 0,
 "worksheets": [
  {
   "cells": [
    {
     "cell_type": "heading",
     "level": 1,
     "metadata": {
      "colab_type": "text",
      "id": "dFc6UWz63kJB"
     },
     "source": [
      "YOLO v5"
     ]
    },
    {
     "cell_type": "heading",
     "level": 3,
     "metadata": {
      "colab_type": "text",
      "id": "2G_yU0eicvif"
     },
     "source": [
      "0. Install Yolov5"
     ]
    },
    {
     "cell_type": "code",
     "collapsed": false,
     "input": [
      "!git clone https://github.com/ultralytics/yolov5.git"
     ],
     "language": "python",
     "metadata": {
      "colab": {
       "base_uri": "https://localhost:8080/",
       "height": 136
      },
      "colab_type": "code",
      "id": "VCqNyeZD3Zhz",
      "outputId": "ceab1e6e-6629-447b-a029-e9832bb1c010"
     },
     "outputs": [],
     "prompt_number": 3
    },
    {
     "cell_type": "code",
     "collapsed": false,
     "input": [
      "! cd yolov5 && pip install -U -r requirements.txt"
     ],
     "language": "python",
     "metadata": {
      "colab": {
       "base_uri": "https://localhost:8080/",
       "height": 1000
      },
      "colab_type": "code",
      "id": "YcSON3Km4AJf",
      "outputId": "ef0c270a-d644-4ebc-a86c-99861f673eca"
     },
     "outputs": [],
     "prompt_number": 4
    },
    {
     "cell_type": "heading",
     "level": 3,
     "metadata": {
      "colab_type": "text",
      "id": "CmnuX8-ec142"
     },
     "source": [
      "1. Test out model on video input"
     ]
    },
    {
     "cell_type": "code",
     "collapsed": false,
     "input": [
      "!wget http://capslock.ai/drive.mp4"
     ],
     "language": "python",
     "metadata": {
      "colab": {
       "base_uri": "https://localhost:8080/",
       "height": 204
      },
      "colab_type": "code",
      "id": "wu2sdaEx5N3A",
      "outputId": "d6afa16e-2875-4fe0-868f-b66284e871df"
     },
     "outputs": [],
     "prompt_number": 5
    },
    {
     "cell_type": "code",
     "collapsed": false,
     "input": [
      "!cd yolov5 && python detect.py --source ../drive.mp4"
     ],
     "language": "python",
     "metadata": {
      "colab": {
       "base_uri": "https://localhost:8080/",
       "height": 1000
      },
      "colab_type": "code",
      "id": "we6ZdC2W4fUZ",
      "outputId": "71ecdd52-c58f-42ac-bf93-5256d47a4b2b"
     },
     "outputs": [],
     "prompt_number": 6
    },
    {
     "cell_type": "heading",
     "level": 3,
     "metadata": {
      "colab_type": "text",
      "id": "qvYrEUx5dAx0"
     },
     "source": [
      "2. Export model to onnx"
     ]
    },
    {
     "cell_type": "code",
     "collapsed": false,
     "input": [
      "!pip install onnx"
     ],
     "language": "python",
     "metadata": {
      "colab": {
       "base_uri": "https://localhost:8080/",
       "height": 207
      },
      "colab_type": "code",
      "id": "T6p3YQuT6U-K",
      "outputId": "8c55f659-a2a6-428b-946a-c565cd3888e7"
     },
     "outputs": [],
     "prompt_number": 7
    },
    {
     "cell_type": "code",
     "collapsed": false,
     "input": [
      "!ls yolov5/models\n",
      "!cat yolov5/models/export.py\n",
      "!cd yolov5 && python models/export.py"
     ],
     "language": "python",
     "metadata": {
      "colab": {
       "base_uri": "https://localhost:8080/",
       "height": 1000
      },
      "colab_type": "code",
      "id": "TwvhvQV46IHd",
      "outputId": "a39e3c8b-1bfa-411b-d1b1-2835d1daf3a3"
     },
     "outputs": [],
     "prompt_number": 15
    },
    {
     "cell_type": "heading",
     "level": 3,
     "metadata": {
      "colab_type": "text",
      "id": "wf8mn0MDgAVh"
     },
     "source": [
      "3. Simplyify model architecture"
     ]
    },
    {
     "cell_type": "code",
     "collapsed": false,
     "input": [
      "!pip install onnx-simplifier"
     ],
     "language": "python",
     "metadata": {
      "colab": {
       "base_uri": "https://localhost:8080/",
       "height": 343
      },
      "colab_type": "code",
      "id": "qOjVDHGQvE0b",
      "outputId": "ef744ef8-714c-4162-a6a3-fab4d644cfe6"
     },
     "outputs": [],
     "prompt_number": 16
    },
    {
     "cell_type": "code",
     "collapsed": false,
     "input": [
      "!cd yolov5 && python3 -m onnxsim yolov5s.onnx yolov5s-simple.onnx"
     ],
     "language": "python",
     "metadata": {
      "colab": {
       "base_uri": "https://localhost:8080/",
       "height": 102
      },
      "colab_type": "code",
      "id": "OW2RkxhtvNan",
      "outputId": "40f12a10-7f05-44c9-fb1f-b13d64162959"
     },
     "outputs": [],
     "prompt_number": 17
    },
    {
     "cell_type": "heading",
     "level": 3,
     "metadata": {
      "colab_type": "text",
      "id": "Yq8yDmQCgr_R"
     },
     "source": [
      "4. Visualize model"
     ]
    },
    {
     "cell_type": "code",
     "collapsed": false,
     "input": [
      "!pip install netron"
     ],
     "language": "python",
     "metadata": {
      "colab": {
       "base_uri": "https://localhost:8080/",
       "height": 122
      },
      "colab_type": "code",
      "id": "sD_-a_hEht6y",
      "outputId": "f06a4073-d0a2-46ad-d1da-c2cb277f03e6"
     },
     "outputs": [],
     "prompt_number": 19
    },
    {
     "cell_type": "code",
     "collapsed": false,
     "input": [
      "!ls yolov5"
     ],
     "language": "python",
     "metadata": {
      "colab": {
       "base_uri": "https://localhost:8080/",
       "height": 85
      },
      "colab_type": "code",
      "id": "CvmRP1oMiV-x",
      "outputId": "0c157fa8-7afd-45f3-9722-de618925589d"
     },
     "outputs": [],
     "prompt_number": 23
    },
    {
     "cell_type": "code",
     "collapsed": false,
     "input": [
      "import netron\n",
      "netron.start('yolov5/yolov5s.onnx', port=3344)"
     ],
     "language": "python",
     "metadata": {
      "colab": {
       "base_uri": "https://localhost:8080/",
       "height": 68
      },
      "colab_type": "code",
      "id": "ls4fGH8hiAxn",
      "outputId": "4e8d0edf-6ab1-4db4-e13f-bdd24abbc46c"
     },
     "outputs": [],
     "prompt_number": 29
    },
    {
     "cell_type": "code",
     "collapsed": false,
     "input": [
      "from google.colab.output import eval_js\n",
      "\n",
      "print(eval_js(\"google.colab.kernel.proxyPort(3344)\"))\n"
     ],
     "language": "python",
     "metadata": {
      "colab": {
       "base_uri": "https://localhost:8080/",
       "height": 34
      },
      "colab_type": "code",
      "id": "0bpPTIrtjKWK",
      "outputId": "fa037ca8-f1a7-4b7a-b202-50103e28b35e"
     },
     "outputs": [],
     "prompt_number": 30
    }
   ],
   "metadata": {}
  }
 ]
}