{
 "cells": [
  {
   "cell_type": "markdown",
   "metadata": {
    "colab_type": "text",
    "id": "dFc6UWz63kJB"
   },
   "source": [
    "# YOLO v5"
   ]
  },
  {
   "cell_type": "markdown",
   "metadata": {
    "colab_type": "text",
    "id": "2G_yU0eicvif"
   },
   "source": [
    "### 0. Install Yolov5"
   ]
  },
  {
   "cell_type": "code",
   "execution_count": 2,
   "metadata": {
    "colab": {
     "base_uri": "https://localhost:8080/",
     "height": 102
    },
    "colab_type": "code",
    "id": "VCqNyeZD3Zhz",
    "outputId": "8f0032e4-4517-40d8-da99-2107e669e014"
   },
   "outputs": [
    {
     "name": "stdout",
     "output_type": "stream",
     "text": [
      "Cloning into 'yolov5'...\n",
      "remote: Enumerating objects: 2428, done.\u001b[K\n",
      "remote: Total 2428 (delta 0), reused 0 (delta 0), pack-reused 2428\u001b[K\n",
      "Receiving objects: 100% (2428/2428), 5.29 MiB | 31.66 MiB/s, done.\n",
      "Resolving deltas: 100% (1596/1596), done.\n"
     ]
    }
   ],
   "source": [
    "!rm -rf yolov5 && git clone --branch exp https://github.com/SeanAvery/yolov5.git"
   ]
  },
  {
   "cell_type": "code",
   "execution_count": 3,
   "metadata": {
    "colab": {
     "base_uri": "https://localhost:8080/",
     "height": 1000
    },
    "colab_type": "code",
    "id": "YcSON3Km4AJf",
    "outputId": "86f530bf-6636-4803-c266-bd34ef3ea055"
   },
   "outputs": [
    {
     "name": "stdout",
     "output_type": "stream",
     "text": [
      "Requirement already up-to-date: Cython in /usr/local/lib/python3.6/dist-packages (from -r requirements.txt (line 4)) (0.29.21)\n",
      "Collecting matplotlib>=3.2.2\n",
      "\u001b[?25l  Downloading https://files.pythonhosted.org/packages/96/a7/b6fa244fd8a8814ef9408c8a5a7e4ed0340e232a6f0ce2046b42e50672c0/matplotlib-3.3.1-cp36-cp36m-manylinux1_x86_64.whl (11.6MB)\n",
      "\u001b[K     |████████████████████████████████| 11.6MB 270kB/s \n",
      "\u001b[?25hCollecting numpy>=1.18.5\n",
      "\u001b[?25l  Downloading https://files.pythonhosted.org/packages/b1/9a/7d474ba0860a41f771c9523d8c4ea56b084840b5ca4092d96bdee8a3b684/numpy-1.19.1-cp36-cp36m-manylinux2010_x86_64.whl (14.5MB)\n",
      "\u001b[K     |████████████████████████████████| 14.5MB 235kB/s \n",
      "\u001b[?25hCollecting opencv-python>=4.1.2\n",
      "\u001b[?25l  Downloading https://files.pythonhosted.org/packages/46/16/e49e5abd27d988e687634f58b0aa329fe737b686101cda48cd878f77429d/opencv_python-4.4.0.42-cp36-cp36m-manylinux2014_x86_64.whl (49.4MB)\n",
      "\u001b[K     |████████████████████████████████| 49.4MB 57kB/s \n",
      "\u001b[?25hCollecting pillow\n",
      "\u001b[?25l  Downloading https://files.pythonhosted.org/packages/30/bf/92385b4262178ca22b34f82e0e09c2922eb351fe39f3cc7b8ba9ea555b41/Pillow-7.2.0-cp36-cp36m-manylinux1_x86_64.whl (2.2MB)\n",
      "\u001b[K     |████████████████████████████████| 2.2MB 50.2MB/s \n",
      "\u001b[?25hCollecting PyYAML>=5.3\n",
      "\u001b[?25l  Downloading https://files.pythonhosted.org/packages/64/c2/b80047c7ac2478f9501676c988a5411ed5572f35d1beff9cae07d321512c/PyYAML-5.3.1.tar.gz (269kB)\n",
      "\u001b[K     |████████████████████████████████| 276kB 51.6MB/s \n",
      "\u001b[?25hCollecting scipy>=1.4.1\n",
      "\u001b[?25l  Downloading https://files.pythonhosted.org/packages/2b/a8/f4c66eb529bb252d50e83dbf2909c6502e2f857550f22571ed8556f62d95/scipy-1.5.2-cp36-cp36m-manylinux1_x86_64.whl (25.9MB)\n",
      "\u001b[K     |████████████████████████████████| 25.9MB 118kB/s \n",
      "\u001b[?25hRequirement already up-to-date: tensorboard>=2.2 in /usr/local/lib/python3.6/dist-packages (from -r requirements.txt (line 11)) (2.3.0)\n",
      "Requirement already up-to-date: torch>=1.6.0 in /usr/local/lib/python3.6/dist-packages (from -r requirements.txt (line 12)) (1.6.0+cu101)\n",
      "Requirement already up-to-date: torchvision>=0.7.0 in /usr/local/lib/python3.6/dist-packages (from -r requirements.txt (line 13)) (0.7.0+cu101)\n",
      "Collecting tqdm>=4.41.0\n",
      "\u001b[?25l  Downloading https://files.pythonhosted.org/packages/28/7e/281edb5bc3274dfb894d90f4dbacfceaca381c2435ec6187a2c6f329aed7/tqdm-4.48.2-py2.py3-none-any.whl (68kB)\n",
      "\u001b[K     |████████████████████████████████| 71kB 10.5MB/s \n",
      "\u001b[?25hRequirement already satisfied, skipping upgrade: certifi>=2020.06.20 in /usr/local/lib/python3.6/dist-packages (from matplotlib>=3.2.2->-r requirements.txt (line 5)) (2020.6.20)\n",
      "Requirement already satisfied, skipping upgrade: kiwisolver>=1.0.1 in /usr/local/lib/python3.6/dist-packages (from matplotlib>=3.2.2->-r requirements.txt (line 5)) (1.2.0)\n",
      "Requirement already satisfied, skipping upgrade: cycler>=0.10 in /usr/local/lib/python3.6/dist-packages (from matplotlib>=3.2.2->-r requirements.txt (line 5)) (0.10.0)\n",
      "Requirement already satisfied, skipping upgrade: pyparsing!=2.0.4,!=2.1.2,!=2.1.6,>=2.0.3 in /usr/local/lib/python3.6/dist-packages (from matplotlib>=3.2.2->-r requirements.txt (line 5)) (2.4.7)\n",
      "Requirement already satisfied, skipping upgrade: python-dateutil>=2.1 in /usr/local/lib/python3.6/dist-packages (from matplotlib>=3.2.2->-r requirements.txt (line 5)) (2.8.1)\n",
      "Requirement already satisfied, skipping upgrade: absl-py>=0.4 in /usr/local/lib/python3.6/dist-packages (from tensorboard>=2.2->-r requirements.txt (line 11)) (0.8.1)\n",
      "Requirement already satisfied, skipping upgrade: google-auth<2,>=1.6.3 in /usr/local/lib/python3.6/dist-packages (from tensorboard>=2.2->-r requirements.txt (line 11)) (1.17.2)\n",
      "Requirement already satisfied, skipping upgrade: markdown>=2.6.8 in /usr/local/lib/python3.6/dist-packages (from tensorboard>=2.2->-r requirements.txt (line 11)) (3.2.2)\n",
      "Requirement already satisfied, skipping upgrade: tensorboard-plugin-wit>=1.6.0 in /usr/local/lib/python3.6/dist-packages (from tensorboard>=2.2->-r requirements.txt (line 11)) (1.7.0)\n",
      "Requirement already satisfied, skipping upgrade: google-auth-oauthlib<0.5,>=0.4.1 in /usr/local/lib/python3.6/dist-packages (from tensorboard>=2.2->-r requirements.txt (line 11)) (0.4.1)\n",
      "Requirement already satisfied, skipping upgrade: grpcio>=1.24.3 in /usr/local/lib/python3.6/dist-packages (from tensorboard>=2.2->-r requirements.txt (line 11)) (1.31.0)\n",
      "Requirement already satisfied, skipping upgrade: setuptools>=41.0.0 in /usr/local/lib/python3.6/dist-packages (from tensorboard>=2.2->-r requirements.txt (line 11)) (49.6.0)\n",
      "Requirement already satisfied, skipping upgrade: werkzeug>=0.11.15 in /usr/local/lib/python3.6/dist-packages (from tensorboard>=2.2->-r requirements.txt (line 11)) (1.0.1)\n",
      "Requirement already satisfied, skipping upgrade: protobuf>=3.6.0 in /usr/local/lib/python3.6/dist-packages (from tensorboard>=2.2->-r requirements.txt (line 11)) (3.12.4)\n",
      "Requirement already satisfied, skipping upgrade: wheel>=0.26; python_version >= \"3\" in /usr/local/lib/python3.6/dist-packages (from tensorboard>=2.2->-r requirements.txt (line 11)) (0.35.1)\n",
      "Requirement already satisfied, skipping upgrade: six>=1.10.0 in /usr/local/lib/python3.6/dist-packages (from tensorboard>=2.2->-r requirements.txt (line 11)) (1.15.0)\n",
      "Requirement already satisfied, skipping upgrade: requests<3,>=2.21.0 in /usr/local/lib/python3.6/dist-packages (from tensorboard>=2.2->-r requirements.txt (line 11)) (2.23.0)\n",
      "Requirement already satisfied, skipping upgrade: future in /usr/local/lib/python3.6/dist-packages (from torch>=1.6.0->-r requirements.txt (line 12)) (0.16.0)\n",
      "Requirement already satisfied, skipping upgrade: pyasn1-modules>=0.2.1 in /usr/local/lib/python3.6/dist-packages (from google-auth<2,>=1.6.3->tensorboard>=2.2->-r requirements.txt (line 11)) (0.2.8)\n",
      "Requirement already satisfied, skipping upgrade: cachetools<5.0,>=2.0.0 in /usr/local/lib/python3.6/dist-packages (from google-auth<2,>=1.6.3->tensorboard>=2.2->-r requirements.txt (line 11)) (4.1.1)\n",
      "Requirement already satisfied, skipping upgrade: rsa<5,>=3.1.4; python_version >= \"3\" in /usr/local/lib/python3.6/dist-packages (from google-auth<2,>=1.6.3->tensorboard>=2.2->-r requirements.txt (line 11)) (4.6)\n",
      "Requirement already satisfied, skipping upgrade: importlib-metadata; python_version < \"3.8\" in /usr/local/lib/python3.6/dist-packages (from markdown>=2.6.8->tensorboard>=2.2->-r requirements.txt (line 11)) (1.7.0)\n",
      "Requirement already satisfied, skipping upgrade: requests-oauthlib>=0.7.0 in /usr/local/lib/python3.6/dist-packages (from google-auth-oauthlib<0.5,>=0.4.1->tensorboard>=2.2->-r requirements.txt (line 11)) (1.3.0)\n",
      "Requirement already satisfied, skipping upgrade: urllib3!=1.25.0,!=1.25.1,<1.26,>=1.21.1 in /usr/local/lib/python3.6/dist-packages (from requests<3,>=2.21.0->tensorboard>=2.2->-r requirements.txt (line 11)) (1.24.3)\n",
      "Requirement already satisfied, skipping upgrade: chardet<4,>=3.0.2 in /usr/local/lib/python3.6/dist-packages (from requests<3,>=2.21.0->tensorboard>=2.2->-r requirements.txt (line 11)) (3.0.4)\n",
      "Requirement already satisfied, skipping upgrade: idna<3,>=2.5 in /usr/local/lib/python3.6/dist-packages (from requests<3,>=2.21.0->tensorboard>=2.2->-r requirements.txt (line 11)) (2.10)\n",
      "Requirement already satisfied, skipping upgrade: pyasn1<0.5.0,>=0.4.6 in /usr/local/lib/python3.6/dist-packages (from pyasn1-modules>=0.2.1->google-auth<2,>=1.6.3->tensorboard>=2.2->-r requirements.txt (line 11)) (0.4.8)\n",
      "Requirement already satisfied, skipping upgrade: zipp>=0.5 in /usr/local/lib/python3.6/dist-packages (from importlib-metadata; python_version < \"3.8\"->markdown>=2.6.8->tensorboard>=2.2->-r requirements.txt (line 11)) (3.1.0)\n",
      "Requirement already satisfied, skipping upgrade: oauthlib>=3.0.0 in /usr/local/lib/python3.6/dist-packages (from requests-oauthlib>=0.7.0->google-auth-oauthlib<0.5,>=0.4.1->tensorboard>=2.2->-r requirements.txt (line 11)) (3.1.0)\n",
      "Building wheels for collected packages: PyYAML\n",
      "  Building wheel for PyYAML (setup.py) ... \u001b[?25l\u001b[?25hdone\n",
      "  Created wheel for PyYAML: filename=PyYAML-5.3.1-cp36-cp36m-linux_x86_64.whl size=44619 sha256=c83e6d9a0aa583124fe5f28e293a1c5e09a4cd541901804b3d3409ef0d4a15cf\n",
      "  Stored in directory: /root/.cache/pip/wheels/a7/c1/ea/cf5bd31012e735dc1dfea3131a2d5eae7978b251083d6247bd\n",
      "Successfully built PyYAML\n",
      "\u001b[31mERROR: tensorflow 2.3.0 has requirement numpy<1.19.0,>=1.16.0, but you'll have numpy 1.19.1 which is incompatible.\u001b[0m\n",
      "\u001b[31mERROR: tensorflow 2.3.0 has requirement scipy==1.4.1, but you'll have scipy 1.5.2 which is incompatible.\u001b[0m\n",
      "\u001b[31mERROR: datascience 0.10.6 has requirement folium==0.2.1, but you'll have folium 0.8.3 which is incompatible.\u001b[0m\n",
      "\u001b[31mERROR: albumentations 0.1.12 has requirement imgaug<0.2.7,>=0.2.5, but you'll have imgaug 0.2.9 which is incompatible.\u001b[0m\n",
      "Installing collected packages: numpy, pillow, matplotlib, opencv-python, PyYAML, scipy, tqdm\n",
      "  Found existing installation: numpy 1.18.5\n",
      "    Uninstalling numpy-1.18.5:\n",
      "      Successfully uninstalled numpy-1.18.5\n",
      "  Found existing installation: Pillow 7.0.0\n",
      "    Uninstalling Pillow-7.0.0:\n",
      "      Successfully uninstalled Pillow-7.0.0\n",
      "  Found existing installation: matplotlib 3.2.2\n",
      "    Uninstalling matplotlib-3.2.2:\n",
      "      Successfully uninstalled matplotlib-3.2.2\n",
      "  Found existing installation: opencv-python 4.1.2.30\n",
      "    Uninstalling opencv-python-4.1.2.30:\n",
      "      Successfully uninstalled opencv-python-4.1.2.30\n",
      "  Found existing installation: PyYAML 3.13\n",
      "    Uninstalling PyYAML-3.13:\n",
      "      Successfully uninstalled PyYAML-3.13\n",
      "  Found existing installation: scipy 1.4.1\n",
      "    Uninstalling scipy-1.4.1:\n",
      "      Successfully uninstalled scipy-1.4.1\n",
      "  Found existing installation: tqdm 4.41.1\n",
      "    Uninstalling tqdm-4.41.1:\n",
      "      Successfully uninstalled tqdm-4.41.1\n",
      "Successfully installed PyYAML-5.3.1 matplotlib-3.3.1 numpy-1.19.1 opencv-python-4.4.0.42 pillow-7.2.0 scipy-1.5.2 tqdm-4.48.2\n"
     ]
    }
   ],
   "source": [
    "! cd yolov5 && pip install -U -r requirements.txt\n"
   ]
  },
  {
   "cell_type": "markdown",
   "metadata": {
    "colab_type": "text",
    "id": "CmnuX8-ec142"
   },
   "source": [
    "### 1. Test out model on video input"
   ]
  },
  {
   "cell_type": "code",
   "execution_count": 8,
   "metadata": {
    "colab": {
     "base_uri": "https://localhost:8080/",
     "height": 391
    },
    "colab_type": "code",
    "id": "wu2sdaEx5N3A",
    "outputId": "bd0582fb-35d1-4511-df53-e087c88c9872"
   },
   "outputs": [
    {
     "name": "stdout",
     "output_type": "stream",
     "text": [
      "--2020-09-04 00:20:20--  http://capslock.ai/sample_720p.jpg\n",
      "Resolving capslock.ai (capslock.ai)... 74.125.20.128, 2607:f8b0:400e:c07::80\n",
      "Connecting to capslock.ai (capslock.ai)|74.125.20.128|:80... connected.\n",
      "HTTP request sent, awaiting response... 200 OK\n",
      "Length: 59724 (58K) [image/jpeg]\n",
      "Saving to: ‘sample_720p.jpg.1’\n",
      "\n",
      "sample_720p.jpg.1   100%[===================>]  58.32K  --.-KB/s    in 0s      \n",
      "\n",
      "2020-09-04 00:20:20 (379 MB/s) - ‘sample_720p.jpg.1’ saved [59724/59724]\n",
      "\n",
      "--2020-09-04 00:20:20--  http://capslock.ai/14th_st.jpg\n",
      "Resolving capslock.ai (capslock.ai)... 74.125.20.128, 2607:f8b0:400e:c07::80\n",
      "Connecting to capslock.ai (capslock.ai)|74.125.20.128|:80... connected.\n",
      "HTTP request sent, awaiting response... 200 OK\n",
      "Length: 891341 (870K) [image/jpeg]\n",
      "Saving to: ‘14th_st.jpg’\n",
      "\n",
      "14th_st.jpg         100%[===================>] 870.45K  --.-KB/s    in 0.003s  \n",
      "\n",
      "2020-09-04 00:20:20 (334 MB/s) - ‘14th_st.jpg’ saved [891341/891341]\n",
      "\n"
     ]
    }
   ],
   "source": [
    "!wget http://capslock.ai/sample_720p.jpg\n",
    "!wget http://capslock.ai/14th_st.jpg"
   ]
  },
  {
   "cell_type": "code",
   "execution_count": 10,
   "metadata": {
    "colab": {
     "base_uri": "https://localhost:8080/",
     "height": 34
    },
    "colab_type": "code",
    "id": "Gbo9NnvwtH7U",
    "outputId": "a20337db-bc76-4bd7-ff16-e47c14742ebe"
   },
   "outputs": [
    {
     "data": {
      "text/plain": [
       "True"
      ]
     },
     "execution_count": 10,
     "metadata": {
      "tags": []
     },
     "output_type": "execute_result"
    }
   ],
   "source": [
    "import cv2\n",
    "\n",
    "img = cv2.imread('14th_st.jpg')\n",
    "img = cv2.resize(img, (640, 640))\n",
    "cv2.imwrite('14th_st.jpg', img)"
   ]
  },
  {
   "cell_type": "code",
   "execution_count": 11,
   "metadata": {
    "colab": {
     "base_uri": "https://localhost:8080/",
     "height": 139
    },
    "colab_type": "code",
    "id": "we6ZdC2W4fUZ",
    "outputId": "1c36ee5a-fdad-41d6-9535-051ae2560e70"
   },
   "outputs": [
    {
     "name": "stdout",
     "output_type": "stream",
     "text": [
      "Namespace(agnostic_nms=False, augment=False, classes=None, conf_thres=0.4, device='', img_size=640, iou_thres=0.5, mdebug=True, output='inference/output', save_txt=False, source='../14th_st.jpg', update=False, view_img=False, weights='yolov5s.pt')\n",
      "Using CUDA device0 _CudaDeviceProperties(name='Tesla T4', total_memory=15079MB)\n",
      "\n",
      "Fusing layers... \n",
      "Model Summary: 140 layers, 7.45958e+06 parameters, 6.61683e+06 gradients\n",
      "image 1/1 /content/14th_st.jpg: "
     ]
    }
   ],
   "source": [
    "!cd yolov5 && python detect.py --source ../14th_st.jpg --img-size 640 --mdebug"
   ]
  },
  {
   "cell_type": "code",
   "execution_count": null,
   "metadata": {
    "colab": {},
    "colab_type": "code",
    "id": "XCt9BluVM6Xl"
   },
   "outputs": [],
   "source": [
    "from IPython.display import Image, clear_output  # to display images"
   ]
  },
  {
   "cell_type": "code",
   "execution_count": null,
   "metadata": {
    "colab": {
     "base_uri": "https://localhost:8080/",
     "height": 51
    },
    "colab_type": "code",
    "id": "9bvSeLFqMVT_",
    "outputId": "cad155dc-075d-478b-dc85-9bdb13d999b4"
   },
   "outputs": [
    {
     "name": "stdout",
     "output_type": "stream",
     "text": [
      "20_20_object_prob.jpg  80_80_object_prob.jpg  output\n",
      "40_40_object_prob.jpg  images\n"
     ]
    }
   ],
   "source": [
    "!ls ./yolov5/inference/"
   ]
  },
  {
   "cell_type": "code",
   "execution_count": null,
   "metadata": {
    "colab": {
     "base_uri": "https://localhost:8080/",
     "height": 743
    },
    "colab_type": "code",
    "id": "jyyGjin6S4OP",
    "outputId": "33986d2f-1909-4d3f-c7ad-81938c7d704c"
   },
   "outputs": [
    {
     "data": {
      "image/jpeg": "[encoded data removed]",
      "text/plain": [
       "<IPython.core.display.Image object>"
      ]
     },
     "execution_count": 59,
     "metadata": {
      "image/jpeg": {
       "width": 900
      },
      "tags": []
     },
     "output_type": "execute_result"
    }
   ],
   "source": [
    "Image(filename='./yolov5/inference/80_80_object_prob.jpg', width=900)\n",
    "Image(filename='./yolov5/inference/40_40_object_prob.jpg', width=900)\n",
    "Image(filename='./yolov5/inference/20_20_object_prob.jpg', width=900)"
   ]
  },
  {
   "cell_type": "markdown",
   "metadata": {
    "colab_type": "text",
    "id": "qvYrEUx5dAx0"
   },
   "source": [
    "### 2. Export model to onnx"
   ]
  },
  {
   "cell_type": "code",
   "execution_count": null,
   "metadata": {
    "colab": {
     "base_uri": "https://localhost:8080/",
     "height": 207
    },
    "colab_type": "code",
    "id": "T6p3YQuT6U-K",
    "outputId": "d6edc29d-9831-4fc5-cd7e-c46c4f5f377c"
   },
   "outputs": [
    {
     "name": "stdout",
     "output_type": "stream",
     "text": [
      "Collecting onnx\n",
      "\u001b[?25l  Downloading https://files.pythonhosted.org/packages/36/ee/bc7bc88fc8449266add978627e90c363069211584b937fd867b0ccc59f09/onnx-1.7.0-cp36-cp36m-manylinux1_x86_64.whl (7.4MB)\n",
      "\u001b[K     |████████████████████████████████| 7.4MB 6.6MB/s \n",
      "\u001b[?25hRequirement already satisfied: numpy in /usr/local/lib/python3.6/dist-packages (from onnx) (1.19.1)\n",
      "Requirement already satisfied: typing-extensions>=3.6.2.1 in /usr/local/lib/python3.6/dist-packages (from onnx) (3.7.4.2)\n",
      "Requirement already satisfied: six in /usr/local/lib/python3.6/dist-packages (from onnx) (1.15.0)\n",
      "Requirement already satisfied: protobuf in /usr/local/lib/python3.6/dist-packages (from onnx) (3.12.2)\n",
      "Requirement already satisfied: setuptools in /usr/local/lib/python3.6/dist-packages (from protobuf->onnx) (49.1.0)\n",
      "Installing collected packages: onnx\n",
      "Successfully installed onnx-1.7.0\n"
     ]
    }
   ],
   "source": [
    "!pip install onnx"
   ]
  },
  {
   "cell_type": "markdown",
   "metadata": {
    "colab_type": "text",
    "id": "H3VUkKyzHzv2"
   },
   "source": [
    "replace yaml file defaults\n",
    "\n"
   ]
  },
  {
   "cell_type": "code",
   "execution_count": null,
   "metadata": {
    "colab": {
     "base_uri": "https://localhost:8080/",
     "height": 224
    },
    "colab_type": "code",
    "id": "fewTSzSCHpV9",
    "outputId": "d1f974c5-c48c-4c22-dabe-53493e4082d7"
   },
   "outputs": [
    {
     "name": "stdout",
     "output_type": "stream",
     "text": [
      "--2020-08-04 04:09:50--  https://github.com/TrojanXu/yolov5-tensorrt/blob/master/yolov5s.yaml\n",
      "Resolving github.com (github.com)... 140.82.118.4\n",
      "Connecting to github.com (github.com)|140.82.118.4|:443... connected.\n",
      "HTTP request sent, awaiting response... 200 OK\n",
      "Length: unspecified [text/html]\n",
      "Saving to: ‘yolov5s.yaml.1’\n",
      "\n",
      "yolov5s.yaml.1          [ <=>                ]  88.94K  --.-KB/s    in 0.02s   \n",
      "\n",
      "2020-08-04 04:09:50 (5.43 MB/s) - ‘yolov5s.yaml.1’ saved [91077]\n",
      "\n"
     ]
    }
   ],
   "source": [
    "!cd yolov5/models && wget https://github.com/TrojanXu/yolov5-tensorrt/blob/master/yolov5s.yaml"
   ]
  },
  {
   "cell_type": "code",
   "execution_count": null,
   "metadata": {
    "colab": {
     "base_uri": "https://localhost:8080/",
     "height": 426
    },
    "colab_type": "code",
    "id": "TwvhvQV46IHd",
    "outputId": "ec7934e3-4566-44bd-def2-d7ed250641c6"
   },
   "outputs": [
    {
     "name": "stdout",
     "output_type": "stream",
     "text": [
      "Traceback (most recent call last):\n",
      "  File \"models/export.py\", line 9, in <module>\n",
      "    from models.common import *\n",
      "ModuleNotFoundError: No module named 'models'\n"
     ]
    },
    {
     "ename": "KeyboardInterrupt",
     "evalue": "ignored",
     "output_type": "error",
     "traceback": [
      "\u001b[0;31m---------------------------------------------------------------------------\u001b[0m",
      "\u001b[0;31mKeyboardInterrupt\u001b[0m                         Traceback (most recent call last)",
      "\u001b[0;32m<ipython-input-7-94bb0949f9e9>\u001b[0m in \u001b[0;36m<module>\u001b[0;34m()\u001b[0m\n\u001b[0;32m----> 1\u001b[0;31m \u001b[0mget_ipython\u001b[0m\u001b[0;34m(\u001b[0m\u001b[0;34m)\u001b[0m\u001b[0;34m.\u001b[0m\u001b[0msystem\u001b[0m\u001b[0;34m(\u001b[0m\u001b[0;34m'cd yolov5 && python models/export.py'\u001b[0m\u001b[0;34m)\u001b[0m\u001b[0;34m\u001b[0m\u001b[0;34m\u001b[0m\u001b[0m\n\u001b[0m",
      "\u001b[0;32m/usr/local/lib/python3.6/dist-packages/google/colab/_shell.py\u001b[0m in \u001b[0;36msystem\u001b[0;34m(self, *args, **kwargs)\u001b[0m\n\u001b[1;32m    100\u001b[0m       \u001b[0mkwargs\u001b[0m\u001b[0;34m.\u001b[0m\u001b[0mupdate\u001b[0m\u001b[0;34m(\u001b[0m\u001b[0;34m{\u001b[0m\u001b[0;34m'also_return_output'\u001b[0m\u001b[0;34m:\u001b[0m \u001b[0;32mTrue\u001b[0m\u001b[0;34m}\u001b[0m\u001b[0;34m)\u001b[0m\u001b[0;34m\u001b[0m\u001b[0;34m\u001b[0m\u001b[0m\n\u001b[1;32m    101\u001b[0m \u001b[0;34m\u001b[0m\u001b[0m\n\u001b[0;32m--> 102\u001b[0;31m     \u001b[0moutput\u001b[0m \u001b[0;34m=\u001b[0m \u001b[0m_system_commands\u001b[0m\u001b[0;34m.\u001b[0m\u001b[0m_system_compat\u001b[0m\u001b[0;34m(\u001b[0m\u001b[0mself\u001b[0m\u001b[0;34m,\u001b[0m \u001b[0;34m*\u001b[0m\u001b[0margs\u001b[0m\u001b[0;34m,\u001b[0m \u001b[0;34m**\u001b[0m\u001b[0mkwargs\u001b[0m\u001b[0;34m)\u001b[0m  \u001b[0;31m# pylint:disable=protected-access\u001b[0m\u001b[0;34m\u001b[0m\u001b[0;34m\u001b[0m\u001b[0m\n\u001b[0m\u001b[1;32m    103\u001b[0m \u001b[0;34m\u001b[0m\u001b[0m\n\u001b[1;32m    104\u001b[0m     \u001b[0;32mif\u001b[0m \u001b[0mpip_warn\u001b[0m\u001b[0;34m:\u001b[0m\u001b[0;34m\u001b[0m\u001b[0;34m\u001b[0m\u001b[0m\n",
      "\u001b[0;32m/usr/local/lib/python3.6/dist-packages/google/colab/_system_commands.py\u001b[0m in \u001b[0;36m_system_compat\u001b[0;34m(shell, cmd, also_return_output)\u001b[0m\n\u001b[1;32m    436\u001b[0m   \u001b[0;31m# stack.\u001b[0m\u001b[0;34m\u001b[0m\u001b[0;34m\u001b[0m\u001b[0;34m\u001b[0m\u001b[0m\n\u001b[1;32m    437\u001b[0m   result = _run_command(\n\u001b[0;32m--> 438\u001b[0;31m       shell.var_expand(cmd, depth=2), clear_streamed_output=False)\n\u001b[0m\u001b[1;32m    439\u001b[0m   \u001b[0mshell\u001b[0m\u001b[0;34m.\u001b[0m\u001b[0muser_ns\u001b[0m\u001b[0;34m[\u001b[0m\u001b[0;34m'_exit_code'\u001b[0m\u001b[0;34m]\u001b[0m \u001b[0;34m=\u001b[0m \u001b[0mresult\u001b[0m\u001b[0;34m.\u001b[0m\u001b[0mreturncode\u001b[0m\u001b[0;34m\u001b[0m\u001b[0;34m\u001b[0m\u001b[0m\n\u001b[1;32m    440\u001b[0m   \u001b[0;32mif\u001b[0m \u001b[0;34m-\u001b[0m\u001b[0mresult\u001b[0m\u001b[0;34m.\u001b[0m\u001b[0mreturncode\u001b[0m \u001b[0;32min\u001b[0m \u001b[0m_INTERRUPTED_SIGNALS\u001b[0m\u001b[0;34m:\u001b[0m\u001b[0;34m\u001b[0m\u001b[0;34m\u001b[0m\u001b[0m\n",
      "\u001b[0;32m/usr/local/lib/python3.6/dist-packages/google/colab/_system_commands.py\u001b[0m in \u001b[0;36m_run_command\u001b[0;34m(cmd, clear_streamed_output)\u001b[0m\n\u001b[1;32m    193\u001b[0m       \u001b[0mos\u001b[0m\u001b[0;34m.\u001b[0m\u001b[0mclose\u001b[0m\u001b[0;34m(\u001b[0m\u001b[0mchild_pty\u001b[0m\u001b[0;34m)\u001b[0m\u001b[0;34m\u001b[0m\u001b[0;34m\u001b[0m\u001b[0m\n\u001b[1;32m    194\u001b[0m \u001b[0;34m\u001b[0m\u001b[0m\n\u001b[0;32m--> 195\u001b[0;31m       \u001b[0;32mreturn\u001b[0m \u001b[0m_monitor_process\u001b[0m\u001b[0;34m(\u001b[0m\u001b[0mparent_pty\u001b[0m\u001b[0;34m,\u001b[0m \u001b[0mepoll\u001b[0m\u001b[0;34m,\u001b[0m \u001b[0mp\u001b[0m\u001b[0;34m,\u001b[0m \u001b[0mcmd\u001b[0m\u001b[0;34m,\u001b[0m \u001b[0mupdate_stdin_widget\u001b[0m\u001b[0;34m)\u001b[0m\u001b[0;34m\u001b[0m\u001b[0;34m\u001b[0m\u001b[0m\n\u001b[0m\u001b[1;32m    196\u001b[0m   \u001b[0;32mfinally\u001b[0m\u001b[0;34m:\u001b[0m\u001b[0;34m\u001b[0m\u001b[0;34m\u001b[0m\u001b[0m\n\u001b[1;32m    197\u001b[0m     \u001b[0mepoll\u001b[0m\u001b[0;34m.\u001b[0m\u001b[0mclose\u001b[0m\u001b[0;34m(\u001b[0m\u001b[0;34m)\u001b[0m\u001b[0;34m\u001b[0m\u001b[0;34m\u001b[0m\u001b[0m\n",
      "\u001b[0;32m/usr/lib/python3.6/contextlib.py\u001b[0m in \u001b[0;36m__exit__\u001b[0;34m(self, type, value, traceback)\u001b[0m\n\u001b[1;32m     86\u001b[0m         \u001b[0;32mif\u001b[0m \u001b[0mtype\u001b[0m \u001b[0;32mis\u001b[0m \u001b[0;32mNone\u001b[0m\u001b[0;34m:\u001b[0m\u001b[0;34m\u001b[0m\u001b[0;34m\u001b[0m\u001b[0m\n\u001b[1;32m     87\u001b[0m             \u001b[0;32mtry\u001b[0m\u001b[0;34m:\u001b[0m\u001b[0;34m\u001b[0m\u001b[0;34m\u001b[0m\u001b[0m\n\u001b[0;32m---> 88\u001b[0;31m                 \u001b[0mnext\u001b[0m\u001b[0;34m(\u001b[0m\u001b[0mself\u001b[0m\u001b[0;34m.\u001b[0m\u001b[0mgen\u001b[0m\u001b[0;34m)\u001b[0m\u001b[0;34m\u001b[0m\u001b[0;34m\u001b[0m\u001b[0m\n\u001b[0m\u001b[1;32m     89\u001b[0m             \u001b[0;32mexcept\u001b[0m \u001b[0mStopIteration\u001b[0m\u001b[0;34m:\u001b[0m\u001b[0;34m\u001b[0m\u001b[0;34m\u001b[0m\u001b[0m\n\u001b[1;32m     90\u001b[0m                 \u001b[0;32mreturn\u001b[0m \u001b[0;32mFalse\u001b[0m\u001b[0;34m\u001b[0m\u001b[0;34m\u001b[0m\u001b[0m\n",
      "\u001b[0;32m/usr/local/lib/python3.6/dist-packages/google/colab/_system_commands.py\u001b[0m in \u001b[0;36m_display_stdin_widget\u001b[0;34m(delay_millis)\u001b[0m\n\u001b[1;32m    353\u001b[0m \u001b[0;34m\u001b[0m\u001b[0m\n\u001b[1;32m    354\u001b[0m   \u001b[0mhide_args\u001b[0m \u001b[0;34m=\u001b[0m \u001b[0;34m[\u001b[0m\u001b[0;34m'cell_remove_stdin'\u001b[0m\u001b[0;34m,\u001b[0m \u001b[0;34m{\u001b[0m\u001b[0;34m}\u001b[0m\u001b[0;34m]\u001b[0m\u001b[0;34m\u001b[0m\u001b[0;34m\u001b[0m\u001b[0m\n\u001b[0;32m--> 355\u001b[0;31m   \u001b[0m_message\u001b[0m\u001b[0;34m.\u001b[0m\u001b[0mblocking_request\u001b[0m\u001b[0;34m(\u001b[0m\u001b[0;34m*\u001b[0m\u001b[0mhide_args\u001b[0m\u001b[0;34m,\u001b[0m \u001b[0mparent\u001b[0m\u001b[0;34m=\u001b[0m\u001b[0mshell\u001b[0m\u001b[0;34m.\u001b[0m\u001b[0mparent_header\u001b[0m\u001b[0;34m)\u001b[0m\u001b[0;34m\u001b[0m\u001b[0;34m\u001b[0m\u001b[0m\n\u001b[0m\u001b[1;32m    356\u001b[0m \u001b[0;34m\u001b[0m\u001b[0m\n\u001b[1;32m    357\u001b[0m \u001b[0;34m\u001b[0m\u001b[0m\n",
      "\u001b[0;32m/usr/local/lib/python3.6/dist-packages/google/colab/_message.py\u001b[0m in \u001b[0;36mblocking_request\u001b[0;34m(request_type, request, timeout_sec, parent)\u001b[0m\n\u001b[1;32m    169\u001b[0m   \u001b[0;31m# unique.\u001b[0m\u001b[0;34m\u001b[0m\u001b[0;34m\u001b[0m\u001b[0;34m\u001b[0m\u001b[0m\n\u001b[1;32m    170\u001b[0m   \u001b[0mrequest_id\u001b[0m \u001b[0;34m=\u001b[0m \u001b[0msend_request\u001b[0m\u001b[0;34m(\u001b[0m\u001b[0mrequest_type\u001b[0m\u001b[0;34m,\u001b[0m \u001b[0mrequest\u001b[0m\u001b[0;34m,\u001b[0m \u001b[0mparent\u001b[0m\u001b[0;34m=\u001b[0m\u001b[0mparent\u001b[0m\u001b[0;34m)\u001b[0m\u001b[0;34m\u001b[0m\u001b[0;34m\u001b[0m\u001b[0m\n\u001b[0;32m--> 171\u001b[0;31m   \u001b[0;32mreturn\u001b[0m \u001b[0mread_reply_from_input\u001b[0m\u001b[0;34m(\u001b[0m\u001b[0mrequest_id\u001b[0m\u001b[0;34m,\u001b[0m \u001b[0mtimeout_sec\u001b[0m\u001b[0;34m)\u001b[0m\u001b[0;34m\u001b[0m\u001b[0;34m\u001b[0m\u001b[0m\n\u001b[0m",
      "\u001b[0;32m/usr/local/lib/python3.6/dist-packages/google/colab/_message.py\u001b[0m in \u001b[0;36mread_reply_from_input\u001b[0;34m(message_id, timeout_sec)\u001b[0m\n\u001b[1;32m     99\u001b[0m     \u001b[0mreply\u001b[0m \u001b[0;34m=\u001b[0m \u001b[0m_read_next_input_message\u001b[0m\u001b[0;34m(\u001b[0m\u001b[0;34m)\u001b[0m\u001b[0;34m\u001b[0m\u001b[0;34m\u001b[0m\u001b[0m\n\u001b[1;32m    100\u001b[0m     \u001b[0;32mif\u001b[0m \u001b[0mreply\u001b[0m \u001b[0;34m==\u001b[0m \u001b[0m_NOT_READY\u001b[0m \u001b[0;32mor\u001b[0m \u001b[0;32mnot\u001b[0m \u001b[0misinstance\u001b[0m\u001b[0;34m(\u001b[0m\u001b[0mreply\u001b[0m\u001b[0;34m,\u001b[0m \u001b[0mdict\u001b[0m\u001b[0;34m)\u001b[0m\u001b[0;34m:\u001b[0m\u001b[0;34m\u001b[0m\u001b[0;34m\u001b[0m\u001b[0m\n\u001b[0;32m--> 101\u001b[0;31m       \u001b[0mtime\u001b[0m\u001b[0;34m.\u001b[0m\u001b[0msleep\u001b[0m\u001b[0;34m(\u001b[0m\u001b[0;36m0.025\u001b[0m\u001b[0;34m)\u001b[0m\u001b[0;34m\u001b[0m\u001b[0;34m\u001b[0m\u001b[0m\n\u001b[0m\u001b[1;32m    102\u001b[0m       \u001b[0;32mcontinue\u001b[0m\u001b[0;34m\u001b[0m\u001b[0;34m\u001b[0m\u001b[0m\n\u001b[1;32m    103\u001b[0m     if (reply.get('type') == 'colab_reply' and\n",
      "\u001b[0;31mKeyboardInterrupt\u001b[0m: "
     ]
    }
   ],
   "source": [
    "!cd yolov5 && python models/export.py"
   ]
  },
  {
   "cell_type": "markdown",
   "metadata": {
    "colab_type": "text",
    "id": "wf8mn0MDgAVh"
   },
   "source": [
    "### 3. Simplyify model architecture"
   ]
  },
  {
   "cell_type": "code",
   "execution_count": null,
   "metadata": {
    "colab": {
     "base_uri": "https://localhost:8080/",
     "height": 343
    },
    "colab_type": "code",
    "id": "qOjVDHGQvE0b",
    "outputId": "ef744ef8-714c-4162-a6a3-fab4d644cfe6"
   },
   "outputs": [
    {
     "name": "stdout",
     "output_type": "stream",
     "text": [
      "Collecting onnx-simplifier\n",
      "  Downloading https://files.pythonhosted.org/packages/ba/32/789f9dc1b7d032ce28183601f5f7e9a7d237b708ab69714e75719d8ff273/onnx-simplifier-0.2.10.tar.gz\n",
      "Requirement already satisfied: onnx in /usr/local/lib/python3.6/dist-packages (from onnx-simplifier) (1.7.0)\n",
      "Collecting onnxruntime>=1.2.0\n",
      "\u001b[?25l  Downloading https://files.pythonhosted.org/packages/5b/37/572986fb63e0df4e026c5f4c11f6a8977344293587b451d9210a429f5882/onnxruntime-1.3.0-cp36-cp36m-manylinux1_x86_64.whl (3.9MB)\n",
      "\u001b[K     |████████████████████████████████| 3.9MB 16.0MB/s \n",
      "\u001b[?25hRequirement already satisfied: protobuf>=3.7.0 in /usr/local/lib/python3.6/dist-packages (from onnx-simplifier) (3.12.2)\n",
      "Requirement already satisfied: typing-extensions>=3.6.2.1 in /usr/local/lib/python3.6/dist-packages (from onnx->onnx-simplifier) (3.7.4.2)\n",
      "Requirement already satisfied: numpy in /usr/local/lib/python3.6/dist-packages (from onnx->onnx-simplifier) (1.17.3)\n",
      "Requirement already satisfied: six in /usr/local/lib/python3.6/dist-packages (from onnx->onnx-simplifier) (1.12.0)\n",
      "Requirement already satisfied: setuptools in /usr/local/lib/python3.6/dist-packages (from protobuf>=3.7.0->onnx-simplifier) (49.1.0)\n",
      "Building wheels for collected packages: onnx-simplifier\n",
      "  Building wheel for onnx-simplifier (setup.py) ... \u001b[?25l\u001b[?25hdone\n",
      "  Created wheel for onnx-simplifier: filename=onnx_simplifier-0.2.10-cp36-none-any.whl size=6499 sha256=e7a44bc921ef66631c4900048bc1077fa76e7f70c3483b26b39eb536ff41ed9d\n",
      "  Stored in directory: /root/.cache/pip/wheels/a0/6b/aa/b3b099f96c24c783a74af4bd1b051b526ff927505e3ffc9f60\n",
      "Successfully built onnx-simplifier\n",
      "Installing collected packages: onnxruntime, onnx-simplifier\n",
      "Successfully installed onnx-simplifier-0.2.10 onnxruntime-1.3.0\n"
     ]
    }
   ],
   "source": [
    "!pip install onnx-simplifier"
   ]
  },
  {
   "cell_type": "code",
   "execution_count": null,
   "metadata": {
    "colab": {
     "base_uri": "https://localhost:8080/",
     "height": 102
    },
    "colab_type": "code",
    "id": "OW2RkxhtvNan",
    "outputId": "40f12a10-7f05-44c9-fb1f-b13d64162959"
   },
   "outputs": [
    {
     "name": "stdout",
     "output_type": "stream",
     "text": [
      "Simplifying...\n",
      "Checking 0/3...\n",
      "Checking 1/3...\n",
      "Checking 2/3...\n",
      "Ok!\n"
     ]
    }
   ],
   "source": [
    "!cd yolov5 && python3 -m onnxsim yolov5s.onnx yolov5s-simple.onnx"
   ]
  },
  {
   "cell_type": "markdown",
   "metadata": {
    "colab_type": "text",
    "id": "Yq8yDmQCgr_R"
   },
   "source": [
    "### 4. Visualize model"
   ]
  },
  {
   "cell_type": "code",
   "execution_count": null,
   "metadata": {
    "colab": {
     "base_uri": "https://localhost:8080/",
     "height": 122
    },
    "colab_type": "code",
    "id": "sD_-a_hEht6y",
    "outputId": "c6e24e4d-9b7e-4ba2-a851-de6f8f7ff2d4"
   },
   "outputs": [
    {
     "name": "stdout",
     "output_type": "stream",
     "text": [
      "Collecting netron\n",
      "\u001b[?25l  Downloading https://files.pythonhosted.org/packages/0c/06/7069400d8d1f8294ab5b9ffae03428d2e955273e7ce402369ca452630b8b/netron-4.3.9-py2.py3-none-any.whl (1.4MB)\n",
      "\u001b[K     |████████████████████████████████| 1.4MB 2.8MB/s \n",
      "\u001b[?25hInstalling collected packages: netron\n",
      "Successfully installed netron-4.3.9\n"
     ]
    }
   ],
   "source": [
    "!pip install netron"
   ]
  },
  {
   "cell_type": "code",
   "execution_count": null,
   "metadata": {
    "colab": {
     "base_uri": "https://localhost:8080/",
     "height": 68
    },
    "colab_type": "code",
    "id": "CvmRP1oMiV-x",
    "outputId": "da863a9e-d952-4444-b97d-624c9d5096fd"
   },
   "outputs": [
    {
     "name": "stdout",
     "output_type": "stream",
     "text": [
      "data\t    hubconf.py\tmodels\t\t  test.py\t  utils\n",
      "detect.py   inference\tREADME.md\t  train.py\t  weights\n",
      "Dockerfile  LICENSE\trequirements.txt  tutorial.ipynb  yolov5s.pt\n"
     ]
    }
   ],
   "source": [
    "!ls yolov5"
   ]
  },
  {
   "cell_type": "code",
   "execution_count": null,
   "metadata": {
    "colab": {
     "base_uri": "https://localhost:8080/",
     "height": 68
    },
    "colab_type": "code",
    "id": "ls4fGH8hiAxn",
    "outputId": "66cb0b75-b7b1-4081-afd0-b59bc4dd5009"
   },
   "outputs": [
    {
     "name": "stdout",
     "output_type": "stream",
     "text": [
      "\n",
      "Stopping http://localhost:3344\n",
      "Serving 'yolov5/yolov5s.onnx' at http://localhost:3344\n"
     ]
    }
   ],
   "source": [
    "import netron\n",
    "netron.start('yolov5/yolov5s.onnx', port=3344)"
   ]
  },
  {
   "cell_type": "code",
   "execution_count": null,
   "metadata": {
    "colab": {
     "base_uri": "https://localhost:8080/",
     "height": 1000
    },
    "colab_type": "code",
    "id": "kceHmaX4c9DS",
    "outputId": "927bfaad-5120-476b-cfaf-684e222eb01c"
   },
   "outputs": [
    {
     "name": "stdout",
     "output_type": "stream",
     "text": [
      "\u001b[1mdpkg:\u001b[0m \u001b[1;31merror:\u001b[0m cannot access archive 'nv-tensorrt-repo-ubuntu1804-cuda10.0-trt5.1.2.2-rc-20190227_1-1_amd64.deb': No such file or directory\n",
      "gpg: can't open '/var/nv-tensorrt-repo-cuda10.0-trt5.1.2.2-rc-20190227/7fa2af80.pub': No such file or directory\n",
      "Ign:1 https://developer.download.nvidia.com/compute/cuda/repos/ubuntu1804/x86_64  InRelease\n",
      "Get:2 http://security.ubuntu.com/ubuntu bionic-security InRelease [88.7 kB]\n",
      "Ign:3 https://developer.download.nvidia.com/compute/machine-learning/repos/ubuntu1804/x86_64  InRelease\n",
      "Hit:4 https://developer.download.nvidia.com/compute/cuda/repos/ubuntu1804/x86_64  Release\n",
      "Hit:5 https://developer.download.nvidia.com/compute/machine-learning/repos/ubuntu1804/x86_64  Release\n",
      "Get:6 http://ppa.launchpad.net/graphics-drivers/ppa/ubuntu bionic InRelease [21.3 kB]\n",
      "Hit:8 http://archive.ubuntu.com/ubuntu bionic InRelease\n",
      "Get:10 https://cloud.r-project.org/bin/linux/ubuntu bionic-cran35/ InRelease [3,626 B]\n",
      "Get:11 http://archive.ubuntu.com/ubuntu bionic-updates InRelease [88.7 kB]\n",
      "Get:12 http://ppa.launchpad.net/marutter/c2d4u3.5/ubuntu bionic InRelease [15.4 kB]\n",
      "Get:13 http://security.ubuntu.com/ubuntu bionic-security/universe amd64 Packages [869 kB]\n",
      "Get:14 http://archive.ubuntu.com/ubuntu bionic-backports InRelease [74.6 kB]\n",
      "Get:15 http://ppa.launchpad.net/graphics-drivers/ppa/ubuntu bionic/main amd64 Packages [43.3 kB]\n",
      "Get:16 http://archive.ubuntu.com/ubuntu bionic-updates/restricted amd64 Packages [104 kB]\n",
      "Get:17 http://archive.ubuntu.com/ubuntu bionic-updates/universe amd64 Packages [1,407 kB]\n",
      "Get:18 http://ppa.launchpad.net/marutter/c2d4u3.5/ubuntu bionic/main Sources [1,849 kB]\n",
      "Get:19 http://security.ubuntu.com/ubuntu bionic-security/restricted amd64 Packages [89.9 kB]\n",
      "Get:20 http://security.ubuntu.com/ubuntu bionic-security/multiverse amd64 Packages [9,279 B]\n",
      "Get:21 http://security.ubuntu.com/ubuntu bionic-security/main amd64 Packages [1,005 kB]\n",
      "Get:22 http://archive.ubuntu.com/ubuntu bionic-updates/multiverse amd64 Packages [13.6 kB]\n",
      "Get:23 http://archive.ubuntu.com/ubuntu bionic-updates/main amd64 Packages [1,307 kB]\n",
      "Get:24 http://archive.ubuntu.com/ubuntu bionic-backports/universe amd64 Packages [8,432 B]\n",
      "Get:25 http://ppa.launchpad.net/marutter/c2d4u3.5/ubuntu bionic/main amd64 Packages [892 kB]\n",
      "Fetched 7,889 kB in 6s (1,226 kB/s)\n",
      "Reading package lists... Done\n",
      "Reading package lists... Done\n",
      "Building dependency tree       \n",
      "Reading state information... Done\n",
      "The following package was automatically installed and is no longer required:\n",
      "  libnvidia-common-440\n",
      "Use 'apt autoremove' to remove it.\n",
      "The following NEW packages will be installed:\n",
      "  libnvinfer5\n",
      "0 upgraded, 1 newly installed, 0 to remove and 66 not upgraded.\n",
      "Need to get 43.3 MB of archives.\n",
      "After this operation, 158 MB of additional disk space will be used.\n",
      "Get:1 https://developer.download.nvidia.com/compute/machine-learning/repos/ubuntu1804/x86_64  libnvinfer5 5.1.2-1+cuda10.0 [43.3 MB]\n",
      "Fetched 43.3 MB in 1s (43.8 MB/s)\n",
      "Selecting previously unselected package libnvinfer5.\n",
      "(Reading database ... 144465 files and directories currently installed.)\n",
      "Preparing to unpack .../libnvinfer5_5.1.2-1+cuda10.0_amd64.deb ...\n",
      "Unpacking libnvinfer5 (5.1.2-1+cuda10.0) ...\n",
      "Setting up libnvinfer5 (5.1.2-1+cuda10.0) ...\n",
      "Processing triggers for libc-bin (2.27-3ubuntu1) ...\n",
      "/sbin/ldconfig.real: /usr/local/lib/python3.6/dist-packages/ideep4py/lib/libmkldnn.so.0 is not a symbolic link\n",
      "\n",
      "Reading package lists... Done\n",
      "Building dependency tree       \n",
      "Reading state information... Done\n",
      "The following package was automatically installed and is no longer required:\n",
      "  libnvidia-common-440\n",
      "Use 'apt autoremove' to remove it.\n",
      "The following NEW packages will be installed:\n",
      "  libnvinfer-dev\n",
      "0 upgraded, 1 newly installed, 0 to remove and 67 not upgraded.\n",
      "Need to get 43.5 MB of archives.\n",
      "After this operation, 171 MB of additional disk space will be used.\n",
      "Get:1 https://developer.download.nvidia.com/compute/machine-learning/repos/ubuntu1804/x86_64  libnvinfer-dev 5.1.2-1+cuda10.0 [43.5 MB]\n",
      "Fetched 43.5 MB in 1s (45.4 MB/s)\n",
      "Selecting previously unselected package libnvinfer-dev.\n",
      "(Reading database ... 144483 files and directories currently installed.)\n",
      "Preparing to unpack .../libnvinfer-dev_5.1.2-1+cuda10.0_amd64.deb ...\n",
      "Unpacking libnvinfer-dev (5.1.2-1+cuda10.0) ...\n",
      "Setting up libnvinfer-dev (5.1.2-1+cuda10.0) ...\n",
      "Reading package lists... Done\n",
      "Building dependency tree       \n",
      "Reading state information... Done\n",
      "E: Unable to locate package tensorrt\n",
      "Reading package lists... Done\n",
      "Building dependency tree       \n",
      "Reading state information... Done\n",
      "The following package was automatically installed and is no longer required:\n",
      "  libnvidia-common-440\n",
      "Use 'apt autoremove' to remove it.\n",
      "The following additional packages will be installed:\n",
      "  cuda-cudart-11-0 cuda-cudart-dev-11-0 cuda-driver-dev-11-0 libcublas-11-0\n",
      "  libcublas-dev-11-0 libcudnn8 libcudnn8-dev libnvinfer-dev\n",
      "  libnvinfer-plugin-dev libnvinfer-plugin7 libnvinfer7 libnvonnxparsers-dev\n",
      "  libnvonnxparsers7 libnvparsers-dev libnvparsers7 python3-libnvinfer\n",
      "The following NEW packages will be installed:\n",
      "  cuda-cudart-11-0 cuda-cudart-dev-11-0 cuda-driver-dev-11-0 libcublas-11-0\n",
      "  libcublas-dev-11-0 libcudnn8 libcudnn8-dev libnvinfer-plugin-dev\n",
      "  libnvinfer-plugin7 libnvinfer7 libnvonnxparsers-dev libnvonnxparsers7\n",
      "  libnvparsers-dev libnvparsers7 python3-libnvinfer python3-libnvinfer-dev\n",
      "The following packages will be upgraded:\n",
      "  libnvinfer-dev\n",
      "1 upgraded, 16 newly installed, 0 to remove and 67 not upgraded.\n",
      "Need to get 1,113 MB of archives.\n",
      "After this operation, 4,482 MB of additional disk space will be used.\n",
      "Get:1 https://developer.download.nvidia.com/compute/cuda/repos/ubuntu1804/x86_64  cuda-cudart-11-0 11.0.194-1 [129 kB]\n",
      "Get:2 https://developer.download.nvidia.com/compute/cuda/repos/ubuntu1804/x86_64  cuda-driver-dev-11-0 11.0.194-1 [25.0 kB]\n",
      "Get:3 https://developer.download.nvidia.com/compute/cuda/repos/ubuntu1804/x86_64  cuda-cudart-dev-11-0 11.0.194-1 [1,662 kB]\n",
      "Get:4 https://developer.download.nvidia.com/compute/cuda/repos/ubuntu1804/x86_64  libcublas-11-0 11.1.0.229-1 [118 MB]\n",
      "Get:5 https://developer.download.nvidia.com/compute/cuda/repos/ubuntu1804/x86_64  libcublas-dev-11-0 11.1.0.229-1 [120 MB]\n",
      "Get:6 https://developer.download.nvidia.com/compute/machine-learning/repos/ubuntu1804/x86_64  libcudnn8 8.0.0.180-1+cuda11.0 [286 MB]\n",
      "Get:7 https://developer.download.nvidia.com/compute/machine-learning/repos/ubuntu1804/x86_64  libcudnn8-dev 8.0.0.180-1+cuda11.0 [395 MB]\n",
      "Get:8 https://developer.download.nvidia.com/compute/machine-learning/repos/ubuntu1804/x86_64  libnvinfer7 7.1.3-1+cuda11.0 [90.6 MB]\n",
      "Get:9 https://developer.download.nvidia.com/compute/machine-learning/repos/ubuntu1804/x86_64  libnvinfer-dev 7.1.3-1+cuda11.0 [91.7 MB]\n",
      "Get:10 https://developer.download.nvidia.com/compute/machine-learning/repos/ubuntu1804/x86_64  libnvinfer-plugin7 7.1.3-1+cuda11.0 [3,303 kB]\n",
      "Get:11 https://developer.download.nvidia.com/compute/machine-learning/repos/ubuntu1804/x86_64  libnvinfer-plugin-dev 7.1.3-1+cuda11.0 [3,293 kB]\n",
      "Get:12 https://developer.download.nvidia.com/compute/machine-learning/repos/ubuntu1804/x86_64  libnvonnxparsers7 7.1.3-1+cuda11.0 [625 kB]\n",
      "Get:13 https://developer.download.nvidia.com/compute/machine-learning/repos/ubuntu1804/x86_64  libnvonnxparsers-dev 7.1.3-1+cuda11.0 [332 kB]\n",
      "Get:14 https://developer.download.nvidia.com/compute/machine-learning/repos/ubuntu1804/x86_64  libnvparsers7 7.1.3-1+cuda11.0 [791 kB]\n",
      "Get:15 https://developer.download.nvidia.com/compute/machine-learning/repos/ubuntu1804/x86_64  libnvparsers-dev 7.1.3-1+cuda11.0 [541 kB]\n",
      "Get:16 https://developer.download.nvidia.com/compute/machine-learning/repos/ubuntu1804/x86_64  python3-libnvinfer 7.1.3-1+cuda11.0 [359 kB]\n",
      "Get:17 https://developer.download.nvidia.com/compute/machine-learning/repos/ubuntu1804/x86_64  python3-libnvinfer-dev 7.1.3-1+cuda11.0 [3,608 B]\n",
      "Fetched 1,113 MB in 22s (50.4 MB/s)\n",
      "Selecting previously unselected package cuda-cudart-11-0.\n",
      "(Reading database ... 144512 files and directories currently installed.)\n",
      "Preparing to unpack .../00-cuda-cudart-11-0_11.0.194-1_amd64.deb ...\n",
      "Unpacking cuda-cudart-11-0 (11.0.194-1) ...\n",
      "Selecting previously unselected package cuda-driver-dev-11-0.\n",
      "Preparing to unpack .../01-cuda-driver-dev-11-0_11.0.194-1_amd64.deb ...\n",
      "Unpacking cuda-driver-dev-11-0 (11.0.194-1) ...\n",
      "Selecting previously unselected package cuda-cudart-dev-11-0.\n",
      "Preparing to unpack .../02-cuda-cudart-dev-11-0_11.0.194-1_amd64.deb ...\n",
      "Unpacking cuda-cudart-dev-11-0 (11.0.194-1) ...\n",
      "Selecting previously unselected package libcublas-11-0.\n",
      "Preparing to unpack .../03-libcublas-11-0_11.1.0.229-1_amd64.deb ...\n",
      "Unpacking libcublas-11-0 (11.1.0.229-1) ...\n",
      "Selecting previously unselected package libcublas-dev-11-0.\n",
      "Preparing to unpack .../04-libcublas-dev-11-0_11.1.0.229-1_amd64.deb ...\n",
      "Unpacking libcublas-dev-11-0 (11.1.0.229-1) ...\n",
      "Selecting previously unselected package libcudnn8.\n",
      "Preparing to unpack .../05-libcudnn8_8.0.0.180-1+cuda11.0_amd64.deb ...\n",
      "Unpacking libcudnn8 (8.0.0.180-1+cuda11.0) ...\n",
      "Selecting previously unselected package libcudnn8-dev.\n",
      "Preparing to unpack .../06-libcudnn8-dev_8.0.0.180-1+cuda11.0_amd64.deb ...\n",
      "Unpacking libcudnn8-dev (8.0.0.180-1+cuda11.0) ...\n",
      "Selecting previously unselected package libnvinfer7.\n",
      "Preparing to unpack .../07-libnvinfer7_7.1.3-1+cuda11.0_amd64.deb ...\n",
      "Unpacking libnvinfer7 (7.1.3-1+cuda11.0) ...\n",
      "Preparing to unpack .../08-libnvinfer-dev_7.1.3-1+cuda11.0_amd64.deb ...\n",
      "Unpacking libnvinfer-dev (7.1.3-1+cuda11.0) over (5.1.2-1+cuda10.0) ...\n",
      "Selecting previously unselected package libnvinfer-plugin7.\n",
      "Preparing to unpack .../09-libnvinfer-plugin7_7.1.3-1+cuda11.0_amd64.deb ...\n",
      "Unpacking libnvinfer-plugin7 (7.1.3-1+cuda11.0) ...\n",
      "Selecting previously unselected package libnvinfer-plugin-dev.\n",
      "Preparing to unpack .../10-libnvinfer-plugin-dev_7.1.3-1+cuda11.0_amd64.deb ...\n",
      "Unpacking libnvinfer-plugin-dev (7.1.3-1+cuda11.0) ...\n",
      "Selecting previously unselected package libnvonnxparsers7.\n",
      "Preparing to unpack .../11-libnvonnxparsers7_7.1.3-1+cuda11.0_amd64.deb ...\n",
      "Unpacking libnvonnxparsers7 (7.1.3-1+cuda11.0) ...\n",
      "Selecting previously unselected package libnvonnxparsers-dev.\n",
      "Preparing to unpack .../12-libnvonnxparsers-dev_7.1.3-1+cuda11.0_amd64.deb ...\n",
      "Unpacking libnvonnxparsers-dev (7.1.3-1+cuda11.0) ...\n",
      "Selecting previously unselected package libnvparsers7.\n",
      "Preparing to unpack .../13-libnvparsers7_7.1.3-1+cuda11.0_amd64.deb ...\n",
      "Unpacking libnvparsers7 (7.1.3-1+cuda11.0) ...\n",
      "Selecting previously unselected package libnvparsers-dev.\n",
      "Preparing to unpack .../14-libnvparsers-dev_7.1.3-1+cuda11.0_amd64.deb ...\n",
      "Unpacking libnvparsers-dev (7.1.3-1+cuda11.0) ...\n",
      "Selecting previously unselected package python3-libnvinfer.\n",
      "Preparing to unpack .../15-python3-libnvinfer_7.1.3-1+cuda11.0_amd64.deb ...\n",
      "Unpacking python3-libnvinfer (7.1.3-1+cuda11.0) ...\n",
      "Selecting previously unselected package python3-libnvinfer-dev.\n",
      "Preparing to unpack .../16-python3-libnvinfer-dev_7.1.3-1+cuda11.0_amd64.deb ...\n",
      "Unpacking python3-libnvinfer-dev (7.1.3-1+cuda11.0) ...\n",
      "Setting up libcudnn8 (8.0.0.180-1+cuda11.0) ...\n",
      "Setting up libcublas-11-0 (11.1.0.229-1) ...\n",
      "Setting up libcudnn8-dev (8.0.0.180-1+cuda11.0) ...\n",
      "update-alternatives: using /usr/include/x86_64-linux-gnu/cudnn_v8.h to provide /usr/include/cudnn.h (libcudnn) in manual mode\n",
      "Setting up libcublas-dev-11-0 (11.1.0.229-1) ...\n",
      "Setting up cuda-driver-dev-11-0 (11.0.194-1) ...\n",
      "Setting up cuda-cudart-11-0 (11.0.194-1) ...\n",
      "Setting up cuda-cudart-dev-11-0 (11.0.194-1) ...\n",
      "Setting up libnvinfer7 (7.1.3-1+cuda11.0) ...\n",
      "Setting up libnvinfer-dev (7.1.3-1+cuda11.0) ...\n",
      "Setting up libnvinfer-plugin7 (7.1.3-1+cuda11.0) ...\n",
      "Setting up libnvparsers7 (7.1.3-1+cuda11.0) ...\n",
      "Setting up libnvonnxparsers7 (7.1.3-1+cuda11.0) ...\n",
      "Setting up libnvinfer-plugin-dev (7.1.3-1+cuda11.0) ...\n",
      "Setting up libnvparsers-dev (7.1.3-1+cuda11.0) ...\n",
      "Setting up python3-libnvinfer (7.1.3-1+cuda11.0) ...\n",
      "Setting up libnvonnxparsers-dev (7.1.3-1+cuda11.0) ...\n",
      "Setting up python3-libnvinfer-dev (7.1.3-1+cuda11.0) ...\n",
      "Processing triggers for libc-bin (2.27-3ubuntu1) ...\n",
      "/sbin/ldconfig.real: /usr/local/lib/python3.6/dist-packages/ideep4py/lib/libmkldnn.so.0 is not a symbolic link\n",
      "\n",
      "Reading package lists... Done\n",
      "Building dependency tree       \n",
      "Reading state information... Done\n",
      "E: Unable to locate package uff-converter-tf\n"
     ]
    }
   ],
   "source": [
    "!dpkg -i nv-tensorrt-repo-ubuntu1804-cuda10.0-trt5.1.2.2-rc-20190227_1-1_amd64.deb\n",
    "!apt-key add /var/nv-tensorrt-repo-cuda10.0-trt5.1.2.2-rc-20190227/7fa2af80.pub\n",
    "!apt-get update\n",
    "!apt-get install -y --no-install-recommends libnvinfer5=5.1.2-1+cuda10.0\n",
    "!apt-get install -y --no-install-recommends libnvinfer-dev=5.1.2-1+cuda10.0\n",
    "!apt-get install tensorrt\n",
    "!apt-get install python3-libnvinfer-dev\n",
    "!apt-get install uff-converter-tf\n"
   ]
  },
  {
   "cell_type": "code",
   "execution_count": null,
   "metadata": {
    "colab": {
     "base_uri": "https://localhost:8080/",
     "height": 34
    },
    "colab_type": "code",
    "id": "0bpPTIrtjKWK",
    "outputId": "6031b145-b443-40d4-b084-4dad80181c21"
   },
   "outputs": [
    {
     "name": "stdout",
     "output_type": "stream",
     "text": [
      "https://6pp6ma8zdco-496ff2e9c6d22116-3344-colab.googleusercontent.com/\n"
     ]
    }
   ],
   "source": [
    "from google.colab.output import eval_js\n",
    "\n",
    "print(eval_js(\"google.colab.kernel.proxyPort(3344)\"))\n"
   ]
  }
 ],
 "metadata": {
  "accelerator": "GPU",
  "colab": {
   "collapsed_sections": [],
   "name": "yolov5_onnx.ipynb",
   "provenance": [],
   "toc_visible": true
  },
  "kernelspec": {
   "display_name": "Python 3",
   "name": "python3"
  }
 },
 "nbformat": 4,
 "nbformat_minor": 0
}
